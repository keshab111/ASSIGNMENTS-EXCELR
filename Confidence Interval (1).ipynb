{
 "cells": [
  {
   "cell_type": "code",
   "execution_count": 3,
   "id": "44d83808-dfe2-4ff1-9b9e-37e37dba79de",
   "metadata": {},
   "outputs": [
    {
     "name": "stderr",
     "output_type": "stream",
     "text": [
      "Matplotlib is building the font cache; this may take a moment.\n"
     ]
    }
   ],
   "source": [
    "import numpy as np\n",
    "import pandas as pd\n",
    "import matplotlib.pyplot as plt\n",
    "import seaborn as sns\n",
    "from scipy.stats import t\n",
    "from scipy import stats"
   ]
  },
  {
   "cell_type": "code",
   "execution_count": null,
   "id": "feedc9ea-8dd4-425b-858d-1827eb7ba01b",
   "metadata": {},
   "outputs": [],
   "source": [
    "DATA\n",
    "A total of 15 print-heads were randomly selected and tested until failure. The durability of each print-head (in millions of characters) was recorded as follows:\n",
    "1.13, 1.55, 1.43, 0.92, 1.25, 1.36, 1.32, 0.85, 1.07, 1.48, 1.20, 1.33, 1.18, 1.22, 1.29\n"
   ]
  },
  {
   "cell_type": "code",
   "execution_count": 5,
   "id": "c0273821-3682-4b38-9648-411b3336011a",
   "metadata": {},
   "outputs": [],
   "source": [
    "df= [1.13, 1.55, 1.43, 0.92, 1.25, 1.36, 1.32, 0.85, 1.07, 1.48, 1.20, 1.33, 1.18, 1.22, 1.29  ]"
   ]
  },
  {
   "cell_type": "code",
   "execution_count": 7,
   "id": "d0cfdb8b-63f0-4f71-acdf-831ca5147572",
   "metadata": {},
   "outputs": [],
   "source": [
    "data=pd.DataFrame(df, columns=['Durability'])"
   ]
  },
  {
   "cell_type": "code",
   "execution_count": 9,
   "id": "14f04894-43ce-43cc-974b-734e74bded3d",
   "metadata": {},
   "outputs": [
    {
     "data": {
      "text/html": [
       "<div>\n",
       "<style scoped>\n",
       "    .dataframe tbody tr th:only-of-type {\n",
       "        vertical-align: middle;\n",
       "    }\n",
       "\n",
       "    .dataframe tbody tr th {\n",
       "        vertical-align: top;\n",
       "    }\n",
       "\n",
       "    .dataframe thead th {\n",
       "        text-align: right;\n",
       "    }\n",
       "</style>\n",
       "<table border=\"1\" class=\"dataframe\">\n",
       "  <thead>\n",
       "    <tr style=\"text-align: right;\">\n",
       "      <th></th>\n",
       "      <th>Durability</th>\n",
       "    </tr>\n",
       "  </thead>\n",
       "  <tbody>\n",
       "    <tr>\n",
       "      <th>0</th>\n",
       "      <td>1.13</td>\n",
       "    </tr>\n",
       "    <tr>\n",
       "      <th>1</th>\n",
       "      <td>1.55</td>\n",
       "    </tr>\n",
       "    <tr>\n",
       "      <th>2</th>\n",
       "      <td>1.43</td>\n",
       "    </tr>\n",
       "    <tr>\n",
       "      <th>3</th>\n",
       "      <td>0.92</td>\n",
       "    </tr>\n",
       "    <tr>\n",
       "      <th>4</th>\n",
       "      <td>1.25</td>\n",
       "    </tr>\n",
       "    <tr>\n",
       "      <th>5</th>\n",
       "      <td>1.36</td>\n",
       "    </tr>\n",
       "    <tr>\n",
       "      <th>6</th>\n",
       "      <td>1.32</td>\n",
       "    </tr>\n",
       "    <tr>\n",
       "      <th>7</th>\n",
       "      <td>0.85</td>\n",
       "    </tr>\n",
       "    <tr>\n",
       "      <th>8</th>\n",
       "      <td>1.07</td>\n",
       "    </tr>\n",
       "    <tr>\n",
       "      <th>9</th>\n",
       "      <td>1.48</td>\n",
       "    </tr>\n",
       "    <tr>\n",
       "      <th>10</th>\n",
       "      <td>1.20</td>\n",
       "    </tr>\n",
       "    <tr>\n",
       "      <th>11</th>\n",
       "      <td>1.33</td>\n",
       "    </tr>\n",
       "    <tr>\n",
       "      <th>12</th>\n",
       "      <td>1.18</td>\n",
       "    </tr>\n",
       "    <tr>\n",
       "      <th>13</th>\n",
       "      <td>1.22</td>\n",
       "    </tr>\n",
       "    <tr>\n",
       "      <th>14</th>\n",
       "      <td>1.29</td>\n",
       "    </tr>\n",
       "  </tbody>\n",
       "</table>\n",
       "</div>"
      ],
      "text/plain": [
       "    Durability\n",
       "0         1.13\n",
       "1         1.55\n",
       "2         1.43\n",
       "3         0.92\n",
       "4         1.25\n",
       "5         1.36\n",
       "6         1.32\n",
       "7         0.85\n",
       "8         1.07\n",
       "9         1.48\n",
       "10        1.20\n",
       "11        1.33\n",
       "12        1.18\n",
       "13        1.22\n",
       "14        1.29"
      ]
     },
     "execution_count": 9,
     "metadata": {},
     "output_type": "execute_result"
    }
   ],
   "source": [
    "data"
   ]
  },
  {
   "cell_type": "code",
   "execution_count": null,
   "id": "f606e33a-420c-4efe-a79b-a981cc4eb85b",
   "metadata": {},
   "outputs": [],
   "source": [
    "a. Build 99% Confidence Interval Using Sample Standard Deviation\n",
    "Assuming the sample is representative of the population, construct a 99% confidence interval for the mean number of characters printed before the print-head fails using the sample standard deviation. Explain the steps you take and the rationale behind using the t-distribution for this task.\n"
   ]
  },
  {
   "cell_type": "code",
   "execution_count": 11,
   "id": "f708239f-f582-4806-a694-22628c2caeac",
   "metadata": {},
   "outputs": [
    {
     "data": {
      "text/plain": [
       "1.2386666666666666"
      ]
     },
     "execution_count": 11,
     "metadata": {},
     "output_type": "execute_result"
    }
   ],
   "source": [
    "smean=np.mean(df)\n",
    "smean"
   ]
  },
  {
   "cell_type": "code",
   "execution_count": 13,
   "id": "0c48fad8-bdb9-4fc6-82d9-1fefc01e9ed0",
   "metadata": {},
   "outputs": [
    {
     "data": {
      "text/plain": [
       "0.18661427836285438"
      ]
     },
     "execution_count": 13,
     "metadata": {},
     "output_type": "execute_result"
    }
   ],
   "source": [
    "sstd=np.std(df)\n",
    "sstd"
   ]
  },
  {
   "cell_type": "code",
   "execution_count": 17,
   "id": "2e194280-a3aa-42ad-b409-d7f5b4f880da",
   "metadata": {},
   "outputs": [
    {
     "data": {
      "text/plain": [
       "15"
      ]
     },
     "execution_count": 17,
     "metadata": {},
     "output_type": "execute_result"
    }
   ],
   "source": [
    "n=len(df)\n",
    "n"
   ]
  },
  {
   "cell_type": "code",
   "execution_count": 19,
   "id": "90214488-3dda-413f-bafa-592535a142a6",
   "metadata": {},
   "outputs": [],
   "source": [
    "defr=n-1"
   ]
  },
  {
   "cell_type": "code",
   "execution_count": 21,
   "id": "8f2f4d87-4204-4bb6-8b2d-e8ab22ac0e20",
   "metadata": {},
   "outputs": [
    {
     "data": {
      "text/plain": [
       "(-2.97684273411266, 2.97684273411266)"
      ]
     },
     "execution_count": 21,
     "metadata": {},
     "output_type": "execute_result"
    }
   ],
   "source": [
    "#Calculate t-critical value for 99% confident interval\n",
    "t_critical = stats.t.interval(0.99,14)\n",
    "t_critical"
   ]
  },
  {
   "cell_type": "code",
   "execution_count": 29,
   "id": "c8c326c2-2e71-46bc-ae81-b1d1bd18bf62",
   "metadata": {},
   "outputs": [],
   "source": [
    "#Calcuate margin of error\n",
    "margin_of_error = 2.97 * (sstd / np.sqrt(n))\n",
    "\n",
    "#Calculate  Confidence Interval\n",
    "confidence_interval = (smean - margin_of_error, smean + margin_of_error)"
   ]
  },
  {
   "cell_type": "code",
   "execution_count": 31,
   "id": "cc6adc5c-90bf-4396-805b-6fae5e9e1d10",
   "metadata": {},
   "outputs": [
    {
     "data": {
      "text/plain": [
       "(1.0955613761984242, 1.381771957134909)"
      ]
     },
     "execution_count": 31,
     "metadata": {},
     "output_type": "execute_result"
    }
   ],
   "source": [
    "confidence_interval"
   ]
  },
  {
   "cell_type": "code",
   "execution_count": 37,
   "id": "f26fe386-18ec-4e5a-8de0-c4b180c5cb85",
   "metadata": {},
   "outputs": [
    {
     "name": "stdout",
     "output_type": "stream",
     "text": [
      "Sample Mean: 1.2386666666666666\n",
      "Sample Standard Deviation: 0.18661427836285438\n",
      "Degrees of Freedom: 14\n",
      "t-Critical Value: (-2.97684273411266, 2.97684273411266)\n",
      "Margin of Error: 0.14310529046824233\n",
      "99% Confidence Interval: (1.0955613761984242, 1.381771957134909)\n"
     ]
    }
   ],
   "source": [
    "print(\"Sample Mean:\", smean)\n",
    "print(\"Sample Standard Deviation:\", sstd)\n",
    "print(\"Degrees of Freedom:\", defr)\n",
    "print(\"t-Critical Value:\", t_critical)\n",
    "print(\"Margin of Error:\" , margin_of_error)\n",
    "print(\"99% Confidence Interval:\" , confidence_interval)"
   ]
  },
  {
   "cell_type": "code",
   "execution_count": null,
   "id": "48e2ab44-3ca3-4173-a36a-bc5eecc15c25",
   "metadata": {},
   "outputs": [],
   "source": [
    "b. Build 99% Confidence Interval Using Known Population Standard Deviation\n",
    "If it were known that the population standard deviation is 0.2 million characters, construct a 99% confidence interval for the mean number of characters printed before failure.\n"
   ]
  },
  {
   "cell_type": "code",
   "execution_count": 39,
   "id": "c054c670-1563-4f7c-9e00-0b8280572fbe",
   "metadata": {},
   "outputs": [
    {
     "data": {
      "text/html": [
       "<div>\n",
       "<style scoped>\n",
       "    .dataframe tbody tr th:only-of-type {\n",
       "        vertical-align: middle;\n",
       "    }\n",
       "\n",
       "    .dataframe tbody tr th {\n",
       "        vertical-align: top;\n",
       "    }\n",
       "\n",
       "    .dataframe thead th {\n",
       "        text-align: right;\n",
       "    }\n",
       "</style>\n",
       "<table border=\"1\" class=\"dataframe\">\n",
       "  <thead>\n",
       "    <tr style=\"text-align: right;\">\n",
       "      <th></th>\n",
       "      <th>Durability</th>\n",
       "    </tr>\n",
       "  </thead>\n",
       "  <tbody>\n",
       "    <tr>\n",
       "      <th>0</th>\n",
       "      <td>1.13</td>\n",
       "    </tr>\n",
       "    <tr>\n",
       "      <th>1</th>\n",
       "      <td>1.55</td>\n",
       "    </tr>\n",
       "    <tr>\n",
       "      <th>2</th>\n",
       "      <td>1.43</td>\n",
       "    </tr>\n",
       "    <tr>\n",
       "      <th>3</th>\n",
       "      <td>0.92</td>\n",
       "    </tr>\n",
       "    <tr>\n",
       "      <th>4</th>\n",
       "      <td>1.25</td>\n",
       "    </tr>\n",
       "    <tr>\n",
       "      <th>5</th>\n",
       "      <td>1.36</td>\n",
       "    </tr>\n",
       "    <tr>\n",
       "      <th>6</th>\n",
       "      <td>1.32</td>\n",
       "    </tr>\n",
       "    <tr>\n",
       "      <th>7</th>\n",
       "      <td>0.85</td>\n",
       "    </tr>\n",
       "    <tr>\n",
       "      <th>8</th>\n",
       "      <td>1.07</td>\n",
       "    </tr>\n",
       "    <tr>\n",
       "      <th>9</th>\n",
       "      <td>1.48</td>\n",
       "    </tr>\n",
       "    <tr>\n",
       "      <th>10</th>\n",
       "      <td>1.20</td>\n",
       "    </tr>\n",
       "    <tr>\n",
       "      <th>11</th>\n",
       "      <td>1.33</td>\n",
       "    </tr>\n",
       "    <tr>\n",
       "      <th>12</th>\n",
       "      <td>1.18</td>\n",
       "    </tr>\n",
       "    <tr>\n",
       "      <th>13</th>\n",
       "      <td>1.22</td>\n",
       "    </tr>\n",
       "    <tr>\n",
       "      <th>14</th>\n",
       "      <td>1.29</td>\n",
       "    </tr>\n",
       "  </tbody>\n",
       "</table>\n",
       "</div>"
      ],
      "text/plain": [
       "    Durability\n",
       "0         1.13\n",
       "1         1.55\n",
       "2         1.43\n",
       "3         0.92\n",
       "4         1.25\n",
       "5         1.36\n",
       "6         1.32\n",
       "7         0.85\n",
       "8         1.07\n",
       "9         1.48\n",
       "10        1.20\n",
       "11        1.33\n",
       "12        1.18\n",
       "13        1.22\n",
       "14        1.29"
      ]
     },
     "execution_count": 39,
     "metadata": {},
     "output_type": "execute_result"
    }
   ],
   "source": [
    "data"
   ]
  },
  {
   "cell_type": "code",
   "execution_count": 41,
   "id": "fccaad90-ceac-4cbd-b702-1458251127a4",
   "metadata": {},
   "outputs": [],
   "source": [
    "mean=np.mean(data)"
   ]
  },
  {
   "cell_type": "code",
   "execution_count": 43,
   "id": "c6e91219-d16b-4aea-a584-0b8293c7d8c1",
   "metadata": {},
   "outputs": [
    {
     "name": "stderr",
     "output_type": "stream",
     "text": [
      "/opt/conda/envs/anaconda-2024.02-py310/lib/python3.10/site-packages/numpy/core/fromnumeric.py:3643: FutureWarning: The behavior of DataFrame.std with axis=None is deprecated, in a future version this will reduce over both axes and return a scalar. To retain the old behavior, pass axis=0 (or do not pass axis)\n",
      "  return std(axis=axis, dtype=dtype, out=out, ddof=ddof, **kwargs)\n"
     ]
    }
   ],
   "source": [
    "std=np.std(data)"
   ]
  },
  {
   "cell_type": "code",
   "execution_count": 54,
   "id": "5af68198-562b-4fdb-be1d-c71451fe9f89",
   "metadata": {},
   "outputs": [
    {
     "data": {
      "text/plain": [
       "(-2.5758293035489004, 2.5758293035489004)"
      ]
     },
     "execution_count": 54,
     "metadata": {},
     "output_type": "execute_result"
    }
   ],
   "source": [
    "zscore=stats.norm.interval(0.99)\n",
    "zscore"
   ]
  },
  {
   "cell_type": "code",
   "execution_count": 56,
   "id": "e1104bea-508e-4401-ab1a-a7c2dddc9d24",
   "metadata": {},
   "outputs": [
    {
     "data": {
      "text/plain": [
       "0.13271422933004082"
      ]
     },
     "execution_count": 56,
     "metadata": {},
     "output_type": "execute_result"
    }
   ],
   "source": [
    "margin_error= 2.57*(0.2/np.sqrt(15))\n",
    "margin_error"
   ]
  },
  {
   "cell_type": "code",
   "execution_count": 58,
   "id": "45706cbf-65b5-49e2-a536-0d7f0bc3bcba",
   "metadata": {},
   "outputs": [
    {
     "data": {
      "text/plain": [
       "(1.1059524373366258, 1.3713808959967073)"
      ]
     },
     "execution_count": 58,
     "metadata": {},
     "output_type": "execute_result"
    }
   ],
   "source": [
    "cI=(mean-margin_error, mean+margin_error)\n",
    "cI"
   ]
  },
  {
   "cell_type": "code",
   "execution_count": 62,
   "id": "1450f4b5-c692-4834-be90-f4696cd97679",
   "metadata": {},
   "outputs": [
    {
     "name": "stdout",
     "output_type": "stream",
     "text": [
      "Mean: 1.2386666666666666\n",
      "Standard Deviation: Durability    0.186614\n",
      "dtype: float64\n",
      "Z-Critical Value: (-2.5758293035489004, 2.5758293035489004)\n",
      "Margin of Error: 0.13271422933004082\n",
      "99% Confidence Interval: (1.1059524373366258, 1.3713808959967073)\n"
     ]
    }
   ],
   "source": [
    "print(\"Mean:\", mean)\n",
    "print(\"Standard Deviation:\", std)\n",
    "\n",
    "print(\"Z-Critical Value:\", zscore)\n",
    "print(\"Margin of Error:\" , margin_error)\n",
    "print(\"99% Confidence Interval:\" , cI)"
   ]
  },
  {
   "cell_type": "code",
   "execution_count": null,
   "id": "83f64f0b-2a76-4f97-a5ef-765becd53588",
   "metadata": {},
   "outputs": [],
   "source": []
  }
 ],
 "metadata": {
  "kernelspec": {
   "display_name": "anaconda-2024.02-py310",
   "language": "python",
   "name": "conda-env-anaconda-2024.02-py310-py"
  },
  "language_info": {
   "codemirror_mode": {
    "name": "ipython",
    "version": 3
   },
   "file_extension": ".py",
   "mimetype": "text/x-python",
   "name": "python",
   "nbconvert_exporter": "python",
   "pygments_lexer": "ipython3",
   "version": "3.10.14"
  }
 },
 "nbformat": 4,
 "nbformat_minor": 5
}
